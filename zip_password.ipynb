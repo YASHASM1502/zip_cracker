{
  "nbformat": 4,
  "nbformat_minor": 0,
  "metadata": {
    "colab": {
      "provenance": [],
      "authorship_tag": "ABX9TyOfoe4j24CatXKiVmwZhUeK",
      "include_colab_link": true
    },
    "kernelspec": {
      "name": "python3",
      "display_name": "Python 3"
    },
    "language_info": {
      "name": "python"
    }
  },
  "cells": [
    {
      "cell_type": "markdown",
      "metadata": {
        "id": "view-in-github",
        "colab_type": "text"
      },
      "source": [
        "<a href=\"https://colab.research.google.com/github/YASHASM1502/zip_cracker/blob/main/zip_password.ipynb\" target=\"_parent\"><img src=\"https://colab.research.google.com/assets/colab-badge.svg\" alt=\"Open In Colab\"/></a>"
      ]
    },
    {
      "cell_type": "code",
      "source": [
        "import os\n",
        "import zipfile\n",
        "from time import time\n",
        "\n",
        "def cls():\n",
        "    os.system('cls' if os.name == 'nt' else 'clear')\n",
        "\n",
        "cls()\n",
        "\n",
        "banner = '''\n",
        " ###################################\n",
        " # ZIP Password BruteForcer        #\n",
        " ###################################\n",
        " # Coded By Sir.4m1R               #\n",
        " # The404Hacking                   #\n",
        " # Digital Security ReSearch Group #\n",
        " # T.me/The404Hacking              #\n",
        " ###################################\n",
        " GitHub:\n",
        " https://github.com/The404Hacking/ZIP-Password-BruteForcer\n",
        "\n",
        " [1] Zip Password Cracker\n",
        " [0] Exit\n",
        "'''\n",
        "print(banner)\n",
        "\n",
        "a = int(input(\" [?] Enter Number : \"))\n",
        "\n",
        "if a == 0:\n",
        "    cls()\n",
        "    print(\" [!] Good Bye :)\")\n",
        "    quit()\n",
        "\n",
        "elif a == 1:\n",
        "    cls()\n",
        "    textzippass = '''\n",
        " #########################################\n",
        " # Zip Password Brute Forcer (Top Speed) #\n",
        " #########################################\n",
        " # The404Hacking                         #\n",
        " # Digital Security ReSearch Group       #\n",
        " # T.me/The404Hacking                    #\n",
        " #########################################\n",
        " '''\n",
        "    print(textzippass)\n",
        "\n",
        "    # Replace these with the actual paths to your ZIP file and password list in Colab\n",
        "    file_path = input(\" [+] ZIP File Address: \") # Example: \"/content/File.zip\"\n",
        "    print(\"\")\n",
        "    word_list = input(\" [+] Password List Address: \") # Example: \"/content/pass.txt\"\n",
        "\n",
        "\n",
        "    def main(file_path, word_list):\n",
        "        try:\n",
        "            zip_ = zipfile.ZipFile(file_path)\n",
        "        except zipfile.BadZipFile:\n",
        "            print(\" [!] Please check the file's Path. It doesn't seem to be a ZIP file.\")\n",
        "            quit()\n",
        "\n",
        "        i = 0\n",
        "        c_t = time()\n",
        "\n",
        "        with open(word_list, \"r\", encoding=\"utf-8\", errors=\"ignore\") as f:\n",
        "            for line in f:\n",
        "                i += 1\n",
        "                password = line.strip()\n",
        "                try:\n",
        "                    zip_.extractall(pwd=password.encode('utf-8'))\n",
        "                    t_t = time() - c_t\n",
        "                    print(\"\\n [*] Password Found :)\\n\" + \" [*] Password: \" + password + \"\\n\")\n",
        "                    print(\" [***] Took %.2f seconds to crack. That is, %.2f attempts per second.\" % (t_t, i / t_t))\n",
        "                    quit()\n",
        "                except Exception:\n",
        "                    pass\n",
        "        print(\" [X] Sorry, Password Not Found :(\")\n",
        "\n",
        "    main(file_path, word_list)"
      ],
      "metadata": {
        "colab": {
          "base_uri": "https://localhost:8080/"
        },
        "id": "eQg-Gd3lXpBY",
        "outputId": "5ceacd1b-d9d3-4799-8871-6d5545850924"
      },
      "execution_count": 6,
      "outputs": [
        {
          "output_type": "stream",
          "name": "stdout",
          "text": [
            "\n",
            " ###################################\n",
            " # ZIP Password BruteForcer        #\n",
            " ###################################\n",
            " # Coded By Sir.4m1R               #\n",
            " # The404Hacking                   #\n",
            " # Digital Security ReSearch Group #\n",
            " # T.me/The404Hacking              #\n",
            " ###################################\n",
            " GitHub:\n",
            " https://github.com/The404Hacking/ZIP-Password-BruteForcer\n",
            "\n",
            " [1] Zip Password Cracker\n",
            " [0] Exit\n",
            "\n",
            " [?] Enter Number : 1\n",
            "\n",
            " #########################################\n",
            " # Zip Password Brute Forcer (Top Speed) #\n",
            " #########################################\n",
            " # The404Hacking                         #\n",
            " # Digital Security ReSearch Group       #\n",
            " # T.me/The404Hacking                    #\n",
            " #########################################\n",
            " \n",
            " [+] ZIP File Address: /content/File.zip\n",
            "\n",
            " [+] Password List Address: /content/pass.txt\n",
            "\n",
            " [*] Password Found :)\n",
            " [*] Password: 123321\n",
            "\n",
            " [***] Took 0.00 seconds to crack. That is, 3206.65 attempts per second.\n",
            " [X] Sorry, Password Not Found :(\n"
          ]
        }
      ]
    }
  ]
}